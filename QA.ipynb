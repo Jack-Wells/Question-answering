{
 "cells": [
  {
   "cell_type": "markdown",
   "metadata": {},
   "source": [
    "# In this project I will attempt to answer questions from a data set using a pre-trained BERT model\n"
   ]
  },
  {
   "cell_type": "code",
   "execution_count": 7,
   "metadata": {},
   "outputs": [
    {
     "data": {
      "application/vnd.jupyter.widget-view+json": {
       "model_id": "61b2c6a01c644febadbfb966e08c2e57",
       "version_major": 2,
       "version_minor": 0
      },
      "text/plain": [
       "HBox(children=(HTML(value='Downloading'), FloatProgress(value=0.0, max=443.0), HTML(value='')))"
      ]
     },
     "metadata": {},
     "output_type": "display_data"
    },
    {
     "name": "stdout",
     "output_type": "stream",
     "text": [
      "\n"
     ]
    },
    {
     "data": {
      "application/vnd.jupyter.widget-view+json": {
       "model_id": "4cffe68a6e0242af8f6d07b8f09c2099",
       "version_major": 2,
       "version_minor": 0
      },
      "text/plain": [
       "HBox(children=(HTML(value='Downloading'), FloatProgress(value=0.0, max=1340675298.0), HTML(value='')))"
      ]
     },
     "metadata": {},
     "output_type": "display_data"
    },
    {
     "name": "stdout",
     "output_type": "stream",
     "text": [
      "\n"
     ]
    },
    {
     "data": {
      "application/vnd.jupyter.widget-view+json": {
       "model_id": "62d8f95a80104ca9b72849b056988bf1",
       "version_major": 2,
       "version_minor": 0
      },
      "text/plain": [
       "HBox(children=(HTML(value='Downloading'), FloatProgress(value=0.0, max=231508.0), HTML(value='')))"
      ]
     },
     "metadata": {},
     "output_type": "display_data"
    },
    {
     "name": "stdout",
     "output_type": "stream",
     "text": [
      "\n"
     ]
    }
   ],
   "source": [
    "import torch\n",
    "# Google API\n",
    "import google\n",
    "\n",
    "# BERT models\n",
    "from transformers import BertForQuestionAnswering\n",
    "from transformers import BertTokenizer\n",
    "\n",
    "import speech_recognition as sr\n",
    "\n",
    "# Google search API\n",
    "from googlesearch import search\n",
    "# Wikipedia API\n",
    "import wikipedia\n",
    "\n",
    "import re\n",
    "\n",
    "# Google translate API\n",
    "from gtts import gTTS\n",
    "\n",
    "import os \n",
    "\n",
    "\n",
    "# BERT QA modelling\n",
    "model = BertForQuestionAnswering.from_pretrained('bert-large-uncased-whole-word-masking-finetuned-squad')\n",
    "\n",
    "#Tokenizer\n",
    "tokenizer = BertTokenizer.from_pretrained('bert-large-uncased-whole-word-masking-finetuned-squad')\n"
   ]
  },
  {
   "cell_type": "markdown",
   "metadata": {},
   "source": [
    "#### Speach recognition"
   ]
  },
  {
   "cell_type": "code",
   "execution_count": 8,
   "metadata": {},
   "outputs": [],
   "source": [
    "def ask():\n",
    "    # obtain audio from the microphone\n",
    "    r = sr.Recognizer()\n",
    "    with sr.Microphone() as source:\n",
    "        print(\"Ask a question!\")\n",
    "        audio = r.listen(source)\n",
    "\n",
    "    # recognize speech using Google Speech Recognition\n",
    "    try:\n",
    "        # for testing purposes, we're just using the default API key\n",
    "        # to use another API key, use `r.recognize_google(audio, key=\"GOOGLE_SPEECH_RECOGNITION_API_KEY\")`\n",
    "        # instead of `r.recognize_google(audio)`\n",
    "        question =  r.recognize_google(audio)\n",
    "        print(\"Google Speech Recognition thinks you said \" + question)\n",
    "    except sr.UnknownValueError:\n",
    "        print(\"Google Speech Recognition could not understand audio.\\n Would you like to type in your question or try speach again.\\nIf you would like to try again press 'y'!\")\n",
    "        In = input()\n",
    "        if In == y:\n",
    "            ask()\n",
    "        else:\n",
    "            question = In\n",
    "            return question\n",
    "    except sr.RequestError as e:\n",
    "        print(\"Could not request results from Google Speech Recognition service; {0}\".format(e))\n",
    "        print('Would you like to type in your question or try speach again.\\nIf you would like to try again press y!')\n",
    "        In = input()\n",
    "        if In == y:\n",
    "            ask()\n",
    "        else:\n",
    "            question = In\n",
    "            return question\n",
    "    return question"
   ]
  },
  {
   "cell_type": "markdown",
   "metadata": {},
   "source": [
    "#### Google search\n",
    "\n",
    "Asks Google the question and resives the URL responces"
   ]
  },
  {
   "cell_type": "code",
   "execution_count": 9,
   "metadata": {},
   "outputs": [],
   "source": [
    "\n",
    "def goog(question):\n",
    "    query = question\n",
    "\n",
    "    Websites = []\n",
    "    for j in search(query, tld=\"co.in\", num=10, stop=10, pause=2): \n",
    "        Websites.append(j)\n",
    "    return Websites\n"
   ]
  },
  {
   "cell_type": "markdown",
   "metadata": {},
   "source": [
    "#### Wiki search\n",
    "\n",
    "Extracts wikipedia urls and displace the summary of the most relevent page"
   ]
  },
  {
   "cell_type": "code",
   "execution_count": 10,
   "metadata": {},
   "outputs": [],
   "source": [
    "\n",
    "def wiki(url):\n",
    "    if len(re.findall('wikipedia.org', url)) >= 1:\n",
    "        return url.rsplit('/', 1)[-1]\n",
    "    else:\n",
    "        return None\n",
    "        \n",
    "def wiki_serach(Websites):\n",
    "    A=[]\n",
    "    for url in Websites:\n",
    "        wik = wiki(url)\n",
    "        if wik != None:\n",
    "            A.append(wik)\n",
    "    return A\n",
    "\n",
    "\n",
    "def Wiki(Websites):\n",
    "    pages = wiki_serach(Websites)\n",
    "    text = wikipedia.page(pages[0]).summary\n",
    "    \n",
    "    text = text.split(' ')\n",
    "    Text = ''\n",
    "    for word in text:\n",
    "        Text.join(word)\n",
    "        \n",
    "    return Text\n",
    "\n"
   ]
  },
  {
   "cell_type": "markdown",
   "metadata": {},
   "source": [
    "#### question answering\n",
    "\n",
    "Uses the BERT model for question answering to find the answer in the text"
   ]
  },
  {
   "cell_type": "code",
   "execution_count": 11,
   "metadata": {},
   "outputs": [],
   "source": [
    "#question = \"Age of the universe\"\n",
    "    \n",
    "def bert(text, question): \n",
    "    \n",
    "    answer_text = text\n",
    "    \n",
    "    input_ids=tokenizer.encode(question,answer_text)\n",
    "    # BERT only needs the token IDs, but for the purpose of inspecting the \n",
    "    # tokenizer's behavior, let's also get the token strings and display them.\n",
    "    tokens = tokenizer.convert_ids_to_tokens(input_ids)\n",
    "\n",
    "\n",
    "\n",
    "    # Search the input_ids for the first instance of the `[SEP]` token.\n",
    "    sep_index = input_ids.index(tokenizer.sep_token_id)\n",
    "\n",
    "    # The number of segment A tokens includes the [SEP] token istelf.\n",
    "    num_seg_a = sep_index + 1\n",
    "\n",
    "    # The remainder are segment B.\n",
    "    num_seg_b = len(input_ids) - num_seg_a\n",
    "\n",
    "    # Construct the list of 0s and 1s.\n",
    "    segment_ids = [0]*num_seg_a + [1]*num_seg_b\n",
    "\n",
    "    # There should be a segment_id for every input token.\n",
    "    assert len(segment_ids) == len(input_ids)\n",
    "\n",
    "     #Run our example through the model.\n",
    "    start_scores, end_scores = model(torch.tensor([input_ids]), # The tokens representing our input text.\n",
    "                                     token_type_ids=torch.tensor([segment_ids])) # The segment IDs to differentiate question from answer_text\n",
    "\n",
    "\n",
    "    # Find the tokens with the highest `start` and `end` scores.\n",
    "    answer_start = torch.argmax(start_scores)\n",
    "    answer_end = torch.argmax(end_scores)\n",
    "\n",
    "    # Combine the tokens in the answer and print it out.\n",
    "    answer = ' '.join(tokens[answer_start:answer_end+1])\n",
    "\n",
    "    print('Question: ' + question)\n",
    "    print('Answer: \"' + answer + '\"')\n",
    "\n",
    "\n",
    "    answer = re.sub(' ##', '', answer)\n",
    "    print(answer)\n",
    "    return answer"
   ]
  },
  {
   "cell_type": "markdown",
   "metadata": {},
   "source": [
    "#### Answer to speach"
   ]
  },
  {
   "cell_type": "code",
   "execution_count": 12,
   "metadata": {},
   "outputs": [],
   "source": [
    "\n",
    "def to_speach(answer):\n",
    "    # The text that you want to convert to audio \n",
    "    mytext = answer\n",
    "\n",
    "    # Language in which you want to convert \n",
    "    language = 'en-uk'\n",
    "\n",
    "    # Passing the text and language to the engine,  \n",
    "    # here we have marked slow=False. Which tells  \n",
    "    # the module that the converted audio should  \n",
    "    # have a high speed \n",
    "    myobj = gTTS(text=mytext, lang=language, slow=False) \n",
    "\n",
    "    # Saving the converted audio in a mp3 file named \n",
    "    # welcome  \n",
    "    myobj.save(\"audio.mp3\") \n",
    "\n",
    "\n",
    "    from pygame import mixer  # Load the popular external library\n",
    "\n",
    "    mixer.init()\n",
    "    mixer.music.load(\"audio.mp3\")\n",
    "    mixer.music.play() \n",
    "    mixer.music.stop()\n",
    "    os.remove(\"audio.mp3\")\n"
   ]
  },
  {
   "cell_type": "code",
   "execution_count": 25,
   "metadata": {
    "scrolled": true
   },
   "outputs": [
    {
     "name": "stdout",
     "output_type": "stream",
     "text": [
      "Ask a question!\n",
      "Google Speech Recognition thinks you said how old is the universe\n",
      "['https://www.scientificamerican.com/article/how-old-is-the-universe/?sa=X&ved=2ahUKEwjSifi7xfrsAhWyQUEAHUWqDB4Q9QF6BAgKEAI', 'https://www.scientificamerican.com/article/how-old-is-the-universe/', 'https://www.space.com/how-can-a-star-be-older-than-the-universe.html', 'https://www.space.com/24054-how-old-is-the-universe.html', 'https://en.wikipedia.org/wiki/Age_of_the_universe', 'https://en.wikipedia.org/wiki/Age_of_the_universe#Observational_limits', 'https://en.wikipedia.org/wiki/Age_of_the_universe#Cosmological_parameters', 'https://en.wikipedia.org/wiki/Age_of_the_universe#Planck', 'https://en.wikipedia.org/wiki/Age_of_the_universe#History', 'https://starchild.gsfc.nasa.gov/docs/StarChild/questions/question28.html']\n",
      "Question: how old is the universe\n",
      "Answer: \"[SEP]\"\n",
      "[SEP]\n"
     ]
    }
   ],
   "source": [
    "def QA():\n",
    "    question = ask()\n",
    "    Websites = goog(question)\n",
    "    print(Websites)\n",
    "    text = Wiki(Websites)\n",
    "    answer = bert(text, question)\n",
    "    # Can answer with speach issue with files being open at the same time, will need fixing\n",
    "    #to_speach(answer)\n",
    "    \n",
    "QA()"
   ]
  },
  {
   "cell_type": "code",
   "execution_count": null,
   "metadata": {},
   "outputs": [],
   "source": []
  }
 ],
 "metadata": {
  "kernelspec": {
   "display_name": "Python 3",
   "language": "python",
   "name": "python3"
  },
  "language_info": {
   "codemirror_mode": {
    "name": "ipython",
    "version": 3
   },
   "file_extension": ".py",
   "mimetype": "text/x-python",
   "name": "python",
   "nbconvert_exporter": "python",
   "pygments_lexer": "ipython3",
   "version": "3.8.6"
  }
 },
 "nbformat": 4,
 "nbformat_minor": 4
}
